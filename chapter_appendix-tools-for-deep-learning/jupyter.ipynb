{
  "cells": [
    {
      "cell_type": "markdown",
      "id": "31d9a4c9",
      "metadata": {
        "origin_pos": 0,
        "id": "31d9a4c9"
      },
      "source": [
        "# Using Jupyter Notebooks\n",
        ":label:`sec_jupyter`\n",
        "\n",
        "\n",
        "This section describes how to edit and run the code\n",
        "in each section of this book\n",
        "using the Jupyter Notebook. Make sure you have\n",
        "installed Jupyter and downloaded the\n",
        "code as described in\n",
        ":ref:`chap_installation`.\n",
        "If you want to know more about Jupyter see the excellent tutorial in\n",
        "their [documentation](https://jupyter.readthedocs.io/en/latest/).\n",
        "\n",
        "\n",
        "## Editing and Running the Code Locally\n",
        "\n",
        "Suppose that the local path of the book's code is `xx/yy/d2l-en/`. Use the shell to change the directory to this path (`cd xx/yy/d2l-en`) and run the command `jupyter notebook`. If your browser does not do this automatically, open http://localhost:8888 and you will see the interface of Jupyter and all the folders containing the code of the book, as shown in :numref:`fig_jupyter00`.\n",
        "\n",
        "![The folders containing the code of this book.](https://github.com/d2l-ai/d2l-en-colab/blob/master/img/jupyter00.png?raw=1)\n",
        ":width:`600px`\n",
        ":label:`fig_jupyter00`\n",
        "\n",
        "\n",
        "You can access the notebook files by clicking on the folder displayed on the webpage.\n",
        "They usually have the suffix \".ipynb\".\n",
        "For the sake of brevity, we create a temporary \"test.ipynb\" file.\n",
        "The content displayed after you click it is\n",
        "shown in :numref:`fig_jupyter01`.\n",
        "This notebook includes a markdown cell and a code cell. The content in the markdown cell includes \"This Is a Title\" and \"This is text.\".\n",
        "The code cell contains two lines of Python code.\n",
        "\n",
        "![Markdown and code cells in the \"text.ipynb\" file.](https://github.com/d2l-ai/d2l-en-colab/blob/master/img/jupyter01.png?raw=1)\n",
        ":width:`600px`\n",
        ":label:`fig_jupyter01`\n",
        "\n",
        "\n",
        "Double click on the markdown cell to enter edit mode.\n",
        "Add a new text string \"Hello world.\" at the end of the cell, as shown in :numref:`fig_jupyter02`.\n",
        "\n",
        "![Edit the markdown cell.](https://github.com/d2l-ai/d2l-en-colab/blob/master/img/jupyter02.png?raw=1)\n",
        ":width:`600px`\n",
        ":label:`fig_jupyter02`\n",
        "\n",
        "\n",
        "As demonstrated in :numref:`fig_jupyter03`,\n",
        "click \"Cell\" $\\rightarrow$ \"Run Cells\" in the menu bar to run the edited cell.\n",
        "\n",
        "![Run the cell.](https://github.com/d2l-ai/d2l-en-colab/blob/master/img/jupyter03.png?raw=1)\n",
        ":width:`600px`\n",
        ":label:`fig_jupyter03`\n",
        "\n",
        "After running, the markdown cell is shown in :numref:`fig_jupyter04`.\n",
        "\n",
        "![The markdown cell after running.](https://github.com/d2l-ai/d2l-en-colab/blob/master/img/jupyter04.png?raw=1)\n",
        ":width:`600px`\n",
        ":label:`fig_jupyter04`\n",
        "\n",
        "\n",
        "Next, click on the code cell. Multiply the elements by 2 after the last line of code, as shown in :numref:`fig_jupyter05`.\n",
        "\n",
        "![Edit the code cell.](https://github.com/d2l-ai/d2l-en-colab/blob/master/img/jupyter05.png?raw=1)\n",
        ":width:`600px`\n",
        ":label:`fig_jupyter05`\n",
        "\n",
        "\n",
        "You can also run the cell with a shortcut (\"Ctrl + Enter\" by default) and obtain the output result from :numref:`fig_jupyter06`.\n",
        "\n",
        "![Run the code cell to obtain the output.](https://github.com/d2l-ai/d2l-en-colab/blob/master/img/jupyter06.png?raw=1)\n",
        ":width:`600px`\n",
        ":label:`fig_jupyter06`\n",
        "\n",
        "\n",
        "When a notebook contains more cells, we can click \"Kernel\" $\\rightarrow$ \"Restart & Run All\" in the menu bar to run all the cells in the entire notebook. By clicking \"Help\" $\\rightarrow$ \"Edit Keyboard Shortcuts\" in the menu bar, you can edit the shortcuts according to your preferences.\n",
        "\n",
        "## Advanced Options\n",
        "\n",
        "Beyond local editing two things are quite important: editing the notebooks in the markdown format and running Jupyter remotely.\n",
        "The latter matters when we want to run the code on a faster server.\n",
        "The former matters since Jupyter's native ipynb format stores a lot of auxiliary data that is\n",
        "irrelevant to the content,\n",
        "mostly related to how and where the code is run.\n",
        "This is confusing for Git, making\n",
        "reviewing contributions very difficult.\n",
        "Fortunately there is an alternative---native editing in the markdown format.\n",
        "\n",
        "### Markdown Files in Jupyter\n",
        "\n",
        "If you wish to contribute to the content of this book, you need to modify the\n",
        "source file (md file, not ipynb file) on GitHub.\n",
        "Using the notedown plugin we\n",
        "can modify notebooks in the md format directly in Jupyter.\n",
        "\n",
        "\n",
        "First, install the notedown plugin, run the Jupyter Notebook, and load the plugin:\n",
        "\n",
        "```\n",
        "pip install d2l-notedown  # You may need to uninstall the original notedown.\n",
        "jupyter notebook --NotebookApp.contents_manager_class='notedown.NotedownContentsManager'\n",
        "```\n",
        "\n",
        "You may also turn on the notedown plugin by default whenever you run the Jupyter Notebook.\n",
        "First, generate a Jupyter Notebook configuration file (if it has already been generated, you can skip this step).\n",
        "\n",
        "```\n",
        "jupyter notebook --generate-config\n",
        "```\n",
        "\n",
        "Then, add the following line to the end of the Jupyter Notebook configuration file (for Linux or macOS, usually in the path `~/.jupyter/jupyter_notebook_config.py`):\n",
        "\n",
        "```\n",
        "c.NotebookApp.contents_manager_class = 'notedown.NotedownContentsManager'\n",
        "```\n",
        "\n",
        "After that, you only need to run the `jupyter notebook` command to turn on the notedown plugin by default.\n",
        "\n",
        "### Running Jupyter Notebooks on a Remote Server\n",
        "\n",
        "Sometimes, you may want to run Jupyter notebooks on a remote server and access it through a browser on your local computer. If Linux or macOS is installed on your local machine (Windows can also support this function through third-party software such as PuTTY), you can use port forwarding:\n",
        "\n",
        "```\n",
        "ssh myserver -L 8888:localhost:8888\n",
        "```\n",
        "\n",
        "The above string `myserver` is the address of the remote server.\n",
        "Then we can use http://localhost:8888 to access the remote server `myserver` that runs Jupyter notebooks. We will detail on how to run Jupyter notebooks on AWS instances\n",
        "later in this appendix.\n",
        "\n",
        "### Timing\n",
        "\n",
        "We can use the `ExecuteTime` plugin to time the execution of each code cell in Jupyter notebooks.\n",
        "Use the following commands to install the plugin:\n",
        "\n",
        "```\n",
        "pip install jupyter_contrib_nbextensions\n",
        "jupyter contrib nbextension install --user\n",
        "jupyter nbextension enable execute_time/ExecuteTime\n",
        "```\n",
        "\n",
        "## Summary\n",
        "\n",
        "* Using the Jupyter Notebook tool, we can edit, run, and contribute to each section of the book.\n",
        "* We can run Jupyter notebooks on remote servers using port forwarding.\n",
        "\n",
        "\n",
        "## Exercises\n",
        "\n",
        "1. Edit and run the code in this book with the Jupyter Notebook on your local machine.\n",
        "1. Edit and run the code in this book with the Jupyter Notebook *remotely* via port forwarding.\n",
        "1. Compare the running time of the operations $\\mathbf{A}^\\top \\mathbf{B}$ and $\\mathbf{A} \\mathbf{B}$ for two square matrices in $\\mathbb{R}^{1024 \\times 1024}$. Which one is faster?\n",
        "\n",
        "\n",
        "[Discussions](https://discuss.d2l.ai/t/421)\n"
      ]
    },
    {
      "cell_type": "code",
      "source": [],
      "metadata": {
        "id": "1Mz5MQW6AJj1"
      },
      "id": "1Mz5MQW6AJj1",
      "execution_count": null,
      "outputs": []
    },
    {
      "cell_type": "code",
      "source": [
        "!pip install pyspark\n"
      ],
      "metadata": {
        "colab": {
          "base_uri": "https://localhost:8080/"
        },
        "id": "ap9DvzbR7op4",
        "outputId": "6dfae9dc-c668-4226-8a3b-bb5f2daaccb4"
      },
      "id": "ap9DvzbR7op4",
      "execution_count": 1,
      "outputs": [
        {
          "output_type": "stream",
          "name": "stdout",
          "text": [
            "Requirement already satisfied: pyspark in /usr/local/lib/python3.12/dist-packages (3.5.1)\n",
            "Requirement already satisfied: py4j==0.10.9.7 in /usr/local/lib/python3.12/dist-packages (from pyspark) (0.10.9.7)\n"
          ]
        }
      ]
    },
    {
      "cell_type": "code",
      "source": [
        "from pyspark.sql import SparkSession\n",
        "\n",
        "Spark=(\n",
        "    SparkSession.builder.appName(\"Spark App\").master(\"local[*]\").getOrCreate()\n",
        ")\n",
        "print(Spark)\n",
        "print(Spark.version)"
      ],
      "metadata": {
        "colab": {
          "base_uri": "https://localhost:8080/"
        },
        "id": "fbFQL_KS7z9P",
        "outputId": "c6409275-f05c-4d6a-efe6-1e32e0ffca40"
      },
      "id": "fbFQL_KS7z9P",
      "execution_count": 2,
      "outputs": [
        {
          "output_type": "stream",
          "name": "stdout",
          "text": [
            "<pyspark.sql.session.SparkSession object at 0x7d2484a200e0>\n",
            "3.5.1\n"
          ]
        }
      ]
    },
    {
      "cell_type": "code",
      "source": [
        "# Emp Data & Schema\n",
        "\n",
        "emp_data = [\n",
        "    [\"001\",\"101\",\"John Doe\",\"30\",\"Male\",\"50000\",\"2015-01-01\"],\n",
        "    [\"002\",\"101\",\"Jane Smith\",\"25\",\"Female\",\"45000\",\"2016-02-15\"],\n",
        "    [\"003\",\"102\",\"Bob Brown\",\"35\",\"Male\",\"55000\",\"2014-05-01\"],\n",
        "    [\"004\",\"102\",\"Alice Lee\",\"28\",\"Female\",\"48000\",\"2017-09-30\"],\n",
        "    [\"005\",\"103\",\"Jack Chan\",\"40\",\"Male\",\"60000\",\"2013-04-01\"],\n",
        "    [\"006\",\"103\",\"Jill Wong\",\"32\",\"Female\",\"52000\",\"2018-07-01\"],\n",
        "    [\"007\",\"101\",\"James Johnson\",\"42\",\"Male\",\"70000\",\"2012-03-15\"],\n",
        "    [\"008\",\"102\",\"Kate Kim\",\"29\",\"Female\",\"51000\",\"2019-10-01\"],\n",
        "    [\"009\",\"103\",\"Tom Tan\",\"33\",\"Male\",\"58000\",\"2016-06-01\"],\n",
        "    [\"010\",\"104\",\"Lisa Lee\",\"27\",\"Female\",\"47000\",\"2018-08-01\"],\n",
        "    [\"011\",\"104\",\"David Park\",\"38\",\"Male\",\"65000\",\"2015-11-01\"],\n",
        "    [\"012\",\"105\",\"Susan Chen\",\"31\",\"Female\",\"54000\",\"2017-02-15\"],\n",
        "    [\"013\",\"106\",\"Brian Kim\",\"45\",\"Male\",\"75000\",\"2011-07-01\"],\n",
        "    [\"014\",\"107\",\"Emily Lee\",\"26\",\"Female\",\"46000\",\"2019-01-01\"],\n",
        "    [\"015\",\"106\",\"Michael Lee\",\"37\",\"Male\",\"63000\",\"2014-09-30\"],\n",
        "    [\"016\",\"107\",\"Kelly Zhang\",\"30\",\"Female\",\"49000\",\"2018-04-01\"],\n",
        "    [\"017\",\"105\",\"George Wang\",\"34\",\"Male\",\"57000\",\"2016-03-15\"],\n",
        "    [\"018\",\"104\",\"Nancy Liu\",\"29\",\"Female\",\"50000\",\"2017-06-01\"],\n",
        "    [\"019\",\"103\",\"Steven Chen\",\"36\",\"Male\",\"62000\",\"2015-08-01\"],\n",
        "    [\"020\",\"102\",\"Grace Kim\",\"32\",\"Female\",\"53000\",\"2018-11-01\"],\n",
        "    [\"021\",\"102\",\"Kim jerry\",\"32\",\"FFM\",\"59000\",\"2018-11-01\"]\n",
        "\n",
        "]\n",
        "\n",
        "emp_schema = \"employee_id string, department_id string, name string, age string, gender string, salary string, hire_date string\"\n",
        "\n",
        "emp=Spark.createDataFrame(data=emp_data,schema=emp_schema);\n",
        "\n",
        "emp.show();"
      ],
      "metadata": {
        "colab": {
          "base_uri": "https://localhost:8080/"
        },
        "id": "hqgLPz868QHA",
        "outputId": "cae1c806-9cea-4736-84c8-d1eb6045d293"
      },
      "id": "hqgLPz868QHA",
      "execution_count": 18,
      "outputs": [
        {
          "output_type": "stream",
          "name": "stdout",
          "text": [
            "+-----------+-------------+-------------+---+------+------+----------+\n",
            "|employee_id|department_id|         name|age|gender|salary| hire_date|\n",
            "+-----------+-------------+-------------+---+------+------+----------+\n",
            "|        001|          101|     John Doe| 30|  Male| 50000|2015-01-01|\n",
            "|        002|          101|   Jane Smith| 25|Female| 45000|2016-02-15|\n",
            "|        003|          102|    Bob Brown| 35|  Male| 55000|2014-05-01|\n",
            "|        004|          102|    Alice Lee| 28|Female| 48000|2017-09-30|\n",
            "|        005|          103|    Jack Chan| 40|  Male| 60000|2013-04-01|\n",
            "|        006|          103|    Jill Wong| 32|Female| 52000|2018-07-01|\n",
            "|        007|          101|James Johnson| 42|  Male| 70000|2012-03-15|\n",
            "|        008|          102|     Kate Kim| 29|Female| 51000|2019-10-01|\n",
            "|        009|          103|      Tom Tan| 33|  Male| 58000|2016-06-01|\n",
            "|        010|          104|     Lisa Lee| 27|Female| 47000|2018-08-01|\n",
            "|        011|          104|   David Park| 38|  Male| 65000|2015-11-01|\n",
            "|        012|          105|   Susan Chen| 31|Female| 54000|2017-02-15|\n",
            "|        013|          106|    Brian Kim| 45|  Male| 75000|2011-07-01|\n",
            "|        014|          107|    Emily Lee| 26|Female| 46000|2019-01-01|\n",
            "|        015|          106|  Michael Lee| 37|  Male| 63000|2014-09-30|\n",
            "|        016|          107|  Kelly Zhang| 30|Female| 49000|2018-04-01|\n",
            "|        017|          105|  George Wang| 34|  Male| 57000|2016-03-15|\n",
            "|        018|          104|    Nancy Liu| 29|Female| 50000|2017-06-01|\n",
            "|        019|          103|  Steven Chen| 36|  Male| 62000|2015-08-01|\n",
            "|        020|          102|    Grace Kim| 32|Female| 53000|2018-11-01|\n",
            "+-----------+-------------+-------------+---+------+------+----------+\n",
            "only showing top 20 rows\n",
            "\n"
          ]
        }
      ]
    },
    {
      "cell_type": "code",
      "source": [
        "emp.rdd.getNumPartitions()\n",
        "# Install pyngrok\n",
        "!pip install pyngrok\n",
        "\n",
        "# Start Spark with port 4040 (default)\n",
        "!pyspark &\n",
        "\n",
        "# Expose port 4040 to the internet\n",
        "from pyngrok import ngrok\n",
        "ngrok.connect(4040)"
      ],
      "metadata": {
        "colab": {
          "base_uri": "https://localhost:8080/",
          "height": 549
        },
        "id": "dbwow-tz8se5",
        "outputId": "e4040bff-c2c5-4de8-95ec-5d6fe8863be7"
      },
      "id": "dbwow-tz8se5",
      "execution_count": 4,
      "outputs": [
        {
          "output_type": "stream",
          "name": "stdout",
          "text": [
            "Collecting pyngrok\n",
            "  Downloading pyngrok-7.3.0-py3-none-any.whl.metadata (8.1 kB)\n",
            "Requirement already satisfied: PyYAML>=5.1 in /usr/local/lib/python3.12/dist-packages (from pyngrok) (6.0.2)\n",
            "Downloading pyngrok-7.3.0-py3-none-any.whl (25 kB)\n",
            "Installing collected packages: pyngrok\n",
            "Successfully installed pyngrok-7.3.0\n"
          ]
        },
        {
          "output_type": "stream",
          "name": "stderr",
          "text": [
            "WARNING:pyngrok.process.ngrok:t=2025-09-05T12:39:48+0000 lvl=warn msg=\"can't bind default web address, trying alternatives\" obj=web addr=127.0.0.1:4040\n",
            "ERROR:pyngrok.process.ngrok:t=2025-09-05T12:39:49+0000 lvl=eror msg=\"failed to reconnect session\" obj=tunnels.session err=\"authentication failed: Usage of ngrok requires a verified account and authtoken.\\n\\nSign up for an account: https://dashboard.ngrok.com/signup\\nInstall your authtoken: https://dashboard.ngrok.com/get-started/your-authtoken\\r\\n\\r\\nERR_NGROK_4018\\r\\n\"\n",
            "ERROR:pyngrok.process.ngrok:t=2025-09-05T12:39:49+0000 lvl=eror msg=\"session closing\" obj=tunnels.session err=\"authentication failed: Usage of ngrok requires a verified account and authtoken.\\n\\nSign up for an account: https://dashboard.ngrok.com/signup\\nInstall your authtoken: https://dashboard.ngrok.com/get-started/your-authtoken\\r\\n\\r\\nERR_NGROK_4018\\r\\n\"\n",
            "ERROR:pyngrok.process.ngrok:t=2025-09-05T12:39:49+0000 lvl=eror msg=\"terminating with error\" obj=app err=\"authentication failed: Usage of ngrok requires a verified account and authtoken.\\n\\nSign up for an account: https://dashboard.ngrok.com/signup\\nInstall your authtoken: https://dashboard.ngrok.com/get-started/your-authtoken\\r\\n\\r\\nERR_NGROK_4018\\r\\n\"\n",
            "CRITICAL:pyngrok.process.ngrok:t=2025-09-05T12:39:49+0000 lvl=crit msg=\"command failed\" err=\"authentication failed: Usage of ngrok requires a verified account and authtoken.\\n\\nSign up for an account: https://dashboard.ngrok.com/signup\\nInstall your authtoken: https://dashboard.ngrok.com/get-started/your-authtoken\\r\\n\\r\\nERR_NGROK_4018\\r\\n\"\n"
          ]
        },
        {
          "output_type": "error",
          "ename": "PyngrokNgrokError",
          "evalue": "The ngrok process errored on start: authentication failed: Usage of ngrok requires a verified account and authtoken.\\n\\nSign up for an account: https://dashboard.ngrok.com/signup\\nInstall your authtoken: https://dashboard.ngrok.com/get-started/your-authtoken\\r\\n\\r\\nERR_NGROK_4018\\r\\n.",
          "traceback": [
            "\u001b[0;31m---------------------------------------------------------------------------\u001b[0m",
            "\u001b[0;31mPyngrokNgrokError\u001b[0m                         Traceback (most recent call last)",
            "\u001b[0;32m/tmp/ipython-input-1478822625.py\u001b[0m in \u001b[0;36m<cell line: 0>\u001b[0;34m()\u001b[0m\n\u001b[1;32m      8\u001b[0m \u001b[0;31m# Expose port 4040 to the internet\u001b[0m\u001b[0;34m\u001b[0m\u001b[0;34m\u001b[0m\u001b[0m\n\u001b[1;32m      9\u001b[0m \u001b[0;32mfrom\u001b[0m \u001b[0mpyngrok\u001b[0m \u001b[0;32mimport\u001b[0m \u001b[0mngrok\u001b[0m\u001b[0;34m\u001b[0m\u001b[0;34m\u001b[0m\u001b[0m\n\u001b[0;32m---> 10\u001b[0;31m \u001b[0mngrok\u001b[0m\u001b[0;34m.\u001b[0m\u001b[0mconnect\u001b[0m\u001b[0;34m(\u001b[0m\u001b[0;36m4040\u001b[0m\u001b[0;34m)\u001b[0m\u001b[0;34m\u001b[0m\u001b[0;34m\u001b[0m\u001b[0m\n\u001b[0m",
            "\u001b[0;32m/usr/local/lib/python3.12/dist-packages/pyngrok/ngrok.py\u001b[0m in \u001b[0;36mconnect\u001b[0;34m(addr, proto, name, pyngrok_config, **options)\u001b[0m\n\u001b[1;32m    383\u001b[0m     \u001b[0mlogger\u001b[0m\u001b[0;34m.\u001b[0m\u001b[0minfo\u001b[0m\u001b[0;34m(\u001b[0m\u001b[0;34mf\"Opening tunnel named: {name}\"\u001b[0m\u001b[0;34m)\u001b[0m\u001b[0;34m\u001b[0m\u001b[0;34m\u001b[0m\u001b[0m\n\u001b[1;32m    384\u001b[0m \u001b[0;34m\u001b[0m\u001b[0m\n\u001b[0;32m--> 385\u001b[0;31m     \u001b[0mapi_url\u001b[0m \u001b[0;34m=\u001b[0m \u001b[0mget_ngrok_process\u001b[0m\u001b[0;34m(\u001b[0m\u001b[0mpyngrok_config\u001b[0m\u001b[0;34m)\u001b[0m\u001b[0;34m.\u001b[0m\u001b[0mapi_url\u001b[0m\u001b[0;34m\u001b[0m\u001b[0;34m\u001b[0m\u001b[0m\n\u001b[0m\u001b[1;32m    386\u001b[0m \u001b[0;34m\u001b[0m\u001b[0m\n\u001b[1;32m    387\u001b[0m     \u001b[0mlogger\u001b[0m\u001b[0;34m.\u001b[0m\u001b[0mdebug\u001b[0m\u001b[0;34m(\u001b[0m\u001b[0;34mf\"Creating tunnel with options: {options}\"\u001b[0m\u001b[0;34m)\u001b[0m\u001b[0;34m\u001b[0m\u001b[0;34m\u001b[0m\u001b[0m\n",
            "\u001b[0;32m/usr/local/lib/python3.12/dist-packages/pyngrok/ngrok.py\u001b[0m in \u001b[0;36mget_ngrok_process\u001b[0;34m(pyngrok_config)\u001b[0m\n\u001b[1;32m    201\u001b[0m     \u001b[0minstall_ngrok\u001b[0m\u001b[0;34m(\u001b[0m\u001b[0mpyngrok_config\u001b[0m\u001b[0;34m)\u001b[0m\u001b[0;34m\u001b[0m\u001b[0;34m\u001b[0m\u001b[0m\n\u001b[1;32m    202\u001b[0m \u001b[0;34m\u001b[0m\u001b[0m\n\u001b[0;32m--> 203\u001b[0;31m     \u001b[0;32mreturn\u001b[0m \u001b[0mprocess\u001b[0m\u001b[0;34m.\u001b[0m\u001b[0mget_process\u001b[0m\u001b[0;34m(\u001b[0m\u001b[0mpyngrok_config\u001b[0m\u001b[0;34m)\u001b[0m\u001b[0;34m\u001b[0m\u001b[0;34m\u001b[0m\u001b[0m\n\u001b[0m\u001b[1;32m    204\u001b[0m \u001b[0;34m\u001b[0m\u001b[0m\n\u001b[1;32m    205\u001b[0m \u001b[0;34m\u001b[0m\u001b[0m\n",
            "\u001b[0;32m/usr/local/lib/python3.12/dist-packages/pyngrok/process.py\u001b[0m in \u001b[0;36mget_process\u001b[0;34m(pyngrok_config)\u001b[0m\n\u001b[1;32m    269\u001b[0m         \u001b[0;32mreturn\u001b[0m \u001b[0m_current_processes\u001b[0m\u001b[0;34m[\u001b[0m\u001b[0mpyngrok_config\u001b[0m\u001b[0;34m.\u001b[0m\u001b[0mngrok_path\u001b[0m\u001b[0;34m]\u001b[0m\u001b[0;34m\u001b[0m\u001b[0;34m\u001b[0m\u001b[0m\n\u001b[1;32m    270\u001b[0m \u001b[0;34m\u001b[0m\u001b[0m\n\u001b[0;32m--> 271\u001b[0;31m     \u001b[0;32mreturn\u001b[0m \u001b[0m_start_process\u001b[0m\u001b[0;34m(\u001b[0m\u001b[0mpyngrok_config\u001b[0m\u001b[0;34m)\u001b[0m\u001b[0;34m\u001b[0m\u001b[0;34m\u001b[0m\u001b[0m\n\u001b[0m\u001b[1;32m    272\u001b[0m \u001b[0;34m\u001b[0m\u001b[0m\n\u001b[1;32m    273\u001b[0m \u001b[0;34m\u001b[0m\u001b[0m\n",
            "\u001b[0;32m/usr/local/lib/python3.12/dist-packages/pyngrok/process.py\u001b[0m in \u001b[0;36m_start_process\u001b[0;34m(pyngrok_config)\u001b[0m\n\u001b[1;32m    445\u001b[0m \u001b[0;34m\u001b[0m\u001b[0m\n\u001b[1;32m    446\u001b[0m         \u001b[0;32mif\u001b[0m \u001b[0mngrok_process\u001b[0m\u001b[0;34m.\u001b[0m\u001b[0mstartup_error\u001b[0m \u001b[0;32mis\u001b[0m \u001b[0;32mnot\u001b[0m \u001b[0;32mNone\u001b[0m\u001b[0;34m:\u001b[0m\u001b[0;34m\u001b[0m\u001b[0;34m\u001b[0m\u001b[0m\n\u001b[0;32m--> 447\u001b[0;31m             raise PyngrokNgrokError(f\"The ngrok process errored on start: {ngrok_process.startup_error}.\",\n\u001b[0m\u001b[1;32m    448\u001b[0m                                     \u001b[0mngrok_process\u001b[0m\u001b[0;34m.\u001b[0m\u001b[0mlogs\u001b[0m\u001b[0;34m,\u001b[0m\u001b[0;34m\u001b[0m\u001b[0;34m\u001b[0m\u001b[0m\n\u001b[1;32m    449\u001b[0m                                     ngrok_process.startup_error)\n",
            "\u001b[0;31mPyngrokNgrokError\u001b[0m: The ngrok process errored on start: authentication failed: Usage of ngrok requires a verified account and authtoken.\\n\\nSign up for an account: https://dashboard.ngrok.com/signup\\nInstall your authtoken: https://dashboard.ngrok.com/get-started/your-authtoken\\r\\n\\r\\nERR_NGROK_4018\\r\\n."
          ]
        }
      ]
    },
    {
      "cell_type": "code",
      "source": [
        "from pyngrok import ngrok\n",
        "ngrok.set_auth_token(\"329eBX2JdUFb29BTWvsDWlVfmVl_4Rx6vRhQ4ML2Bn7KSRcox\")   # paste your token\n",
        "ngrok.connect(4040)\n"
      ],
      "metadata": {
        "colab": {
          "base_uri": "https://localhost:8080/"
        },
        "id": "N9vCOgDK9JdQ",
        "outputId": "e8203512-fb9b-4c2d-b1a7-146c61d58a4b"
      },
      "id": "N9vCOgDK9JdQ",
      "execution_count": 5,
      "outputs": [
        {
          "output_type": "stream",
          "name": "stderr",
          "text": [
            "WARNING:pyngrok.process.ngrok:t=2025-09-05T12:39:53+0000 lvl=warn msg=\"can't bind default web address, trying alternatives\" obj=web addr=127.0.0.1:4040\n"
          ]
        },
        {
          "output_type": "execute_result",
          "data": {
            "text/plain": [
              "<NgrokTunnel: \"https://4c4f5a6fbb68.ngrok-free.app\" -> \"http://localhost:4040\">"
            ]
          },
          "metadata": {},
          "execution_count": 5
        }
      ]
    },
    {
      "cell_type": "code",
      "source": [
        "emp_final=emp.where(\"salary > 50000\")\n",
        "emp_final.show()"
      ],
      "metadata": {
        "colab": {
          "base_uri": "https://localhost:8080/"
        },
        "id": "n_xxJzS29R0w",
        "outputId": "9fc14f59-470d-4d32-cf47-10c990c56b75"
      },
      "id": "n_xxJzS29R0w",
      "execution_count": null,
      "outputs": [
        {
          "output_type": "stream",
          "name": "stdout",
          "text": [
            "+-----------+-------------+-------------+---+------+------+----------+\n",
            "|employee_id|department_id|         name|age|gender|salary| hire_date|\n",
            "+-----------+-------------+-------------+---+------+------+----------+\n",
            "|        003|          102|    Bob Brown| 35|  Male| 55000|2014-05-01|\n",
            "|        005|          103|    Jack Chan| 40|  Male| 60000|2013-04-01|\n",
            "|        006|          103|    Jill Wong| 32|Female| 52000|2018-07-01|\n",
            "|        007|          101|James Johnson| 42|  Male| 70000|2012-03-15|\n",
            "|        008|          102|     Kate Kim| 29|Female| 51000|2019-10-01|\n",
            "|        009|          103|      Tom Tan| 33|  Male| 58000|2016-06-01|\n",
            "|        011|          104|   David Park| 38|  Male| 65000|2015-11-01|\n",
            "|        012|          105|   Susan Chen| 31|Female| 54000|2017-02-15|\n",
            "|        013|          106|    Brian Kim| 45|  Male| 75000|2011-07-01|\n",
            "|        015|          106|  Michael Lee| 37|  Male| 63000|2014-09-30|\n",
            "|        017|          105|  George Wang| 34|  Male| 57000|2016-03-15|\n",
            "|        019|          103|  Steven Chen| 36|  Male| 62000|2015-08-01|\n",
            "|        020|          102|    Grace Kim| 32|Female| 53000|2018-11-01|\n",
            "+-----------+-------------+-------------+---+------+------+----------+\n",
            "\n"
          ]
        }
      ]
    },
    {
      "cell_type": "code",
      "source": [
        "emp.schema\n",
        "from pyspark.sql.types import StructType,StructField,StringType,IntegerType\n",
        "\n",
        "spark_schema=StructType([\n",
        "    StructField(\"name\",StringType(),True),\n",
        "    StructField(\"age\",IntegerType(),True)\n",
        "])\n",
        "spark_schema"
      ],
      "metadata": {
        "id": "WC607aS69xVx",
        "outputId": "9e430bba-5def-450a-d2e8-a9171702f12f",
        "colab": {
          "base_uri": "https://localhost:8080/"
        }
      },
      "id": "WC607aS69xVx",
      "execution_count": null,
      "outputs": [
        {
          "output_type": "execute_result",
          "data": {
            "text/plain": [
              "StructType([StructField('name', StringType(), True), StructField('age', IntegerType(), True)])"
            ]
          },
          "metadata": {},
          "execution_count": 4
        }
      ]
    },
    {
      "cell_type": "code",
      "source": [
        "from pyspark.sql.functions import col,expr\n",
        "col(\"name\")\n",
        "expr(\"name\")\n",
        "emp.employee_id\n",
        "emp[\"salary\"]"
      ],
      "metadata": {
        "id": "DaTdEx5xBaV1",
        "outputId": "342a7784-83e5-41e2-842d-1dbe0b76386d",
        "colab": {
          "base_uri": "https://localhost:8080/"
        }
      },
      "id": "DaTdEx5xBaV1",
      "execution_count": null,
      "outputs": [
        {
          "output_type": "execute_result",
          "data": {
            "text/plain": [
              "Column<'salary'>"
            ]
          },
          "metadata": {},
          "execution_count": 8
        }
      ]
    },
    {
      "cell_type": "code",
      "source": [
        "emp_filtered=emp.select(col(\"name\"),expr(\"age\"),emp.salary,emp[\"department_id\"],emp.employee_id)\n",
        "emp_filtered.show()"
      ],
      "metadata": {
        "id": "98wEMp7sB0VS"
      },
      "id": "98wEMp7sB0VS",
      "execution_count": null,
      "outputs": []
    },
    {
      "cell_type": "code",
      "source": [
        "emp_filtered.show()"
      ],
      "metadata": {
        "id": "OUX4EKIsB-y-",
        "outputId": "b490bdb9-74ea-46ed-e23b-1026a238d40d",
        "colab": {
          "base_uri": "https://localhost:8080/"
        }
      },
      "id": "OUX4EKIsB-y-",
      "execution_count": null,
      "outputs": [
        {
          "output_type": "stream",
          "name": "stdout",
          "text": [
            "+-------------+---+------+-------------+-----------+\n",
            "|         name|age|salary|department_id|employee_id|\n",
            "+-------------+---+------+-------------+-----------+\n",
            "|     John Doe| 30| 50000|          101|        001|\n",
            "|   Jane Smith| 25| 45000|          101|        002|\n",
            "|    Bob Brown| 35| 55000|          102|        003|\n",
            "|    Alice Lee| 28| 48000|          102|        004|\n",
            "|    Jack Chan| 40| 60000|          103|        005|\n",
            "|    Jill Wong| 32| 52000|          103|        006|\n",
            "|James Johnson| 42| 70000|          101|        007|\n",
            "|     Kate Kim| 29| 51000|          102|        008|\n",
            "|      Tom Tan| 33| 58000|          103|        009|\n",
            "|     Lisa Lee| 27| 47000|          104|        010|\n",
            "|   David Park| 38| 65000|          104|        011|\n",
            "|   Susan Chen| 31| 54000|          105|        012|\n",
            "|    Brian Kim| 45| 75000|          106|        013|\n",
            "|    Emily Lee| 26| 46000|          107|        014|\n",
            "|  Michael Lee| 37| 63000|          106|        015|\n",
            "|  Kelly Zhang| 30| 49000|          107|        016|\n",
            "|  George Wang| 34| 57000|          105|        017|\n",
            "|    Nancy Liu| 29| 50000|          104|        018|\n",
            "|  Steven Chen| 36| 62000|          103|        019|\n",
            "|    Grace Kim| 32| 53000|          102|        020|\n",
            "+-------------+---+------+-------------+-----------+\n",
            "\n"
          ]
        }
      ]
    },
    {
      "cell_type": "code",
      "source": [
        "emp_casted=emp_filtered.select(expr(\"employee_id as emp_id\"),emp.name,expr(\"cast(age as int) as age_int\"),expr(\"salary as emp_salary\"))\n",
        "\n",
        "emp_casted"
      ],
      "metadata": {
        "id": "qlOC9fRqD48F",
        "outputId": "5a859399-6ba4-4135-96d8-768d5ab7995e",
        "colab": {
          "base_uri": "https://localhost:8080/"
        }
      },
      "id": "qlOC9fRqD48F",
      "execution_count": null,
      "outputs": [
        {
          "output_type": "execute_result",
          "data": {
            "text/plain": [
              "DataFrame[emp_id: string, name: string, age_int: int, emp_salary: string]"
            ]
          },
          "metadata": {},
          "execution_count": 11
        }
      ]
    },
    {
      "cell_type": "code",
      "source": [
        "emp_casted_1=emp_casted.selectExpr(\"emp_id\",\"name\",\"age_int\",\"emp_salary\").where(\"age > 20\")\n",
        "\n",
        "emp_casted_1.show()"
      ],
      "metadata": {
        "id": "OzJcB4J5FK4m",
        "outputId": "83343b21-fa1d-48f2-a004-50b354e5833e",
        "colab": {
          "base_uri": "https://localhost:8080/"
        }
      },
      "id": "OzJcB4J5FK4m",
      "execution_count": null,
      "outputs": [
        {
          "output_type": "stream",
          "name": "stdout",
          "text": [
            "+------+-------------+-------+----------+\n",
            "|emp_id|         name|age_int|emp_salary|\n",
            "+------+-------------+-------+----------+\n",
            "|   001|     John Doe|     30|     50000|\n",
            "|   002|   Jane Smith|     25|     45000|\n",
            "|   003|    Bob Brown|     35|     55000|\n",
            "|   004|    Alice Lee|     28|     48000|\n",
            "|   005|    Jack Chan|     40|     60000|\n",
            "|   006|    Jill Wong|     32|     52000|\n",
            "|   007|James Johnson|     42|     70000|\n",
            "|   008|     Kate Kim|     29|     51000|\n",
            "|   009|      Tom Tan|     33|     58000|\n",
            "|   010|     Lisa Lee|     27|     47000|\n",
            "|   011|   David Park|     38|     65000|\n",
            "|   012|   Susan Chen|     31|     54000|\n",
            "|   013|    Brian Kim|     45|     75000|\n",
            "|   014|    Emily Lee|     26|     46000|\n",
            "|   015|  Michael Lee|     37|     63000|\n",
            "|   016|  Kelly Zhang|     30|     49000|\n",
            "|   017|  George Wang|     34|     57000|\n",
            "|   018|    Nancy Liu|     29|     50000|\n",
            "|   019|  Steven Chen|     36|     62000|\n",
            "|   020|    Grace Kim|     32|     53000|\n",
            "+------+-------------+-------+----------+\n",
            "\n"
          ]
        }
      ]
    },
    {
      "cell_type": "code",
      "source": [
        "emp_casted_1.show();"
      ],
      "metadata": {
        "id": "kYM99KJ0AN0g",
        "outputId": "c18e435b-fb0b-4616-eed4-caf4863ab665",
        "colab": {
          "base_uri": "https://localhost:8080/"
        }
      },
      "id": "kYM99KJ0AN0g",
      "execution_count": null,
      "outputs": [
        {
          "output_type": "stream",
          "name": "stdout",
          "text": [
            "+------+-------------+-------+----------+\n",
            "|emp_id|         name|age_int|emp_salary|\n",
            "+------+-------------+-------+----------+\n",
            "|   001|     John Doe|     30|     50000|\n",
            "|   002|   Jane Smith|     25|     45000|\n",
            "|   003|    Bob Brown|     35|     55000|\n",
            "|   004|    Alice Lee|     28|     48000|\n",
            "|   005|    Jack Chan|     40|     60000|\n",
            "|   006|    Jill Wong|     32|     52000|\n",
            "|   007|James Johnson|     42|     70000|\n",
            "|   008|     Kate Kim|     29|     51000|\n",
            "|   009|      Tom Tan|     33|     58000|\n",
            "|   010|     Lisa Lee|     27|     47000|\n",
            "|   011|   David Park|     38|     65000|\n",
            "|   012|   Susan Chen|     31|     54000|\n",
            "|   013|    Brian Kim|     45|     75000|\n",
            "|   014|    Emily Lee|     26|     46000|\n",
            "|   015|  Michael Lee|     37|     63000|\n",
            "|   016|  Kelly Zhang|     30|     49000|\n",
            "|   017|  George Wang|     34|     57000|\n",
            "|   018|    Nancy Liu|     29|     50000|\n",
            "|   019|  Steven Chen|     36|     62000|\n",
            "|   020|    Grace Kim|     32|     53000|\n",
            "+------+-------------+-------+----------+\n",
            "\n"
          ]
        }
      ]
    },
    {
      "cell_type": "code",
      "source": [
        "schema_str=\"name String,age int,employee_id String\"\n",
        "from pyspark.sql.types import _parse_datatype_string\n",
        "schema_1=_parse_datatype_string(schema_str)\n",
        "schema_1"
      ],
      "metadata": {
        "id": "MuwQDJygFq__",
        "outputId": "4c91523e-8b0d-4d78-e69a-8dedd8534fca",
        "colab": {
          "base_uri": "https://localhost:8080/"
        }
      },
      "id": "MuwQDJygFq__",
      "execution_count": null,
      "outputs": [
        {
          "output_type": "execute_result",
          "data": {
            "text/plain": [
              "StructType([StructField('name', StringType(), True), StructField('age', IntegerType(), True), StructField('employee_id', StringType(), True)])"
            ]
          },
          "metadata": {},
          "execution_count": 14
        }
      ]
    },
    {
      "cell_type": "code",
      "source": [
        "emp.show(5);"
      ],
      "metadata": {
        "id": "V-jElQUNA7pz",
        "outputId": "e3d9a1e6-e59d-4c3a-bd99-5f5653ca83be",
        "colab": {
          "base_uri": "https://localhost:8080/"
        }
      },
      "id": "V-jElQUNA7pz",
      "execution_count": null,
      "outputs": [
        {
          "output_type": "stream",
          "name": "stdout",
          "text": [
            "+-----------+-------------+----------+---+------+------+----------+\n",
            "|employee_id|department_id|      name|age|gender|salary| hire_date|\n",
            "+-----------+-------------+----------+---+------+------+----------+\n",
            "|        001|          101|  John Doe| 30|  Male| 50000|2015-01-01|\n",
            "|        002|          101|Jane Smith| 25|Female| 45000|2016-02-15|\n",
            "|        003|          102| Bob Brown| 35|  Male| 55000|2014-05-01|\n",
            "|        004|          102| Alice Lee| 28|Female| 48000|2017-09-30|\n",
            "|        005|          103| Jack Chan| 40|  Male| 60000|2013-04-01|\n",
            "+-----------+-------------+----------+---+------+------+----------+\n",
            "only showing top 5 rows\n",
            "\n"
          ]
        }
      ]
    },
    {
      "cell_type": "code",
      "source": [
        "from pyspark.sql.functions import col,cast\n",
        "\n",
        "emp_casted=emp.select(\"employee_id\",\"name\",\"age\",\"department_id\",col(\"salary\").cast(\"double\"))\n"
      ],
      "metadata": {
        "id": "jPMPU4aDBQcC"
      },
      "id": "jPMPU4aDBQcC",
      "execution_count": null,
      "outputs": []
    },
    {
      "cell_type": "code",
      "source": [
        "emp_casted.printSchema();"
      ],
      "metadata": {
        "id": "fH7VOdjIBuvV",
        "outputId": "b72fb0d9-07fa-40dc-8f85-36de0777144f",
        "colab": {
          "base_uri": "https://localhost:8080/"
        }
      },
      "id": "fH7VOdjIBuvV",
      "execution_count": null,
      "outputs": [
        {
          "output_type": "stream",
          "name": "stdout",
          "text": [
            "root\n",
            " |-- employee_id: string (nullable = true)\n",
            " |-- name: string (nullable = true)\n",
            " |-- age: string (nullable = true)\n",
            " |-- department_id: string (nullable = true)\n",
            " |-- salary: double (nullable = true)\n",
            "\n"
          ]
        }
      ]
    },
    {
      "cell_type": "code",
      "source": [
        "emp_taxed=emp_casted.withColumn(\"tax\",col(\"salary\") * 0.2)\n",
        "emp_taxed.show()"
      ],
      "metadata": {
        "id": "F0oUdJ0PBx1w",
        "outputId": "b7935d86-23f7-414a-8ded-17995ec4863c",
        "colab": {
          "base_uri": "https://localhost:8080/"
        }
      },
      "id": "F0oUdJ0PBx1w",
      "execution_count": null,
      "outputs": [
        {
          "output_type": "stream",
          "name": "stdout",
          "text": [
            "+-----------+-------------+---+-------------+-------+-------+\n",
            "|employee_id|         name|age|department_id| salary|    tax|\n",
            "+-----------+-------------+---+-------------+-------+-------+\n",
            "|        001|     John Doe| 30|          101|50000.0|10000.0|\n",
            "|        002|   Jane Smith| 25|          101|45000.0| 9000.0|\n",
            "|        003|    Bob Brown| 35|          102|55000.0|11000.0|\n",
            "|        004|    Alice Lee| 28|          102|48000.0| 9600.0|\n",
            "|        005|    Jack Chan| 40|          103|60000.0|12000.0|\n",
            "|        006|    Jill Wong| 32|          103|52000.0|10400.0|\n",
            "|        007|James Johnson| 42|          101|70000.0|14000.0|\n",
            "|        008|     Kate Kim| 29|          102|51000.0|10200.0|\n",
            "|        009|      Tom Tan| 33|          103|58000.0|11600.0|\n",
            "|        010|     Lisa Lee| 27|          104|47000.0| 9400.0|\n",
            "|        011|   David Park| 38|          104|65000.0|13000.0|\n",
            "|        012|   Susan Chen| 31|          105|54000.0|10800.0|\n",
            "|        013|    Brian Kim| 45|          106|75000.0|15000.0|\n",
            "|        014|    Emily Lee| 26|          107|46000.0| 9200.0|\n",
            "|        015|  Michael Lee| 37|          106|63000.0|12600.0|\n",
            "|        016|  Kelly Zhang| 30|          107|49000.0| 9800.0|\n",
            "|        017|  George Wang| 34|          105|57000.0|11400.0|\n",
            "|        018|    Nancy Liu| 29|          104|50000.0|10000.0|\n",
            "|        019|  Steven Chen| 36|          103|62000.0|12400.0|\n",
            "|        020|    Grace Kim| 32|          102|53000.0|10600.0|\n",
            "+-----------+-------------+---+-------------+-------+-------+\n",
            "\n"
          ]
        }
      ]
    },
    {
      "cell_type": "code",
      "source": [
        "from pyspark.sql.functions import lit\n",
        "\n",
        "emp_new_cols=emp_taxed.withColumn(\"ColumnOne\",lit(1)).withColumn(\"ColumnTwo\",lit(\"two\"))\n",
        "emp_new_cols.show()"
      ],
      "metadata": {
        "id": "iZxCih_5DxOX",
        "outputId": "9db0b115-87f2-4f17-9c8e-5bf45a12b1b0",
        "colab": {
          "base_uri": "https://localhost:8080/"
        }
      },
      "id": "iZxCih_5DxOX",
      "execution_count": null,
      "outputs": [
        {
          "output_type": "stream",
          "name": "stdout",
          "text": [
            "+-----------+-------------+---+-------------+-------+-------+---------+---------+\n",
            "|employee_id|         name|age|department_id| salary|    tax|ColumnOne|ColumnTwo|\n",
            "+-----------+-------------+---+-------------+-------+-------+---------+---------+\n",
            "|        001|     John Doe| 30|          101|50000.0|10000.0|        1|      two|\n",
            "|        002|   Jane Smith| 25|          101|45000.0| 9000.0|        1|      two|\n",
            "|        003|    Bob Brown| 35|          102|55000.0|11000.0|        1|      two|\n",
            "|        004|    Alice Lee| 28|          102|48000.0| 9600.0|        1|      two|\n",
            "|        005|    Jack Chan| 40|          103|60000.0|12000.0|        1|      two|\n",
            "|        006|    Jill Wong| 32|          103|52000.0|10400.0|        1|      two|\n",
            "|        007|James Johnson| 42|          101|70000.0|14000.0|        1|      two|\n",
            "|        008|     Kate Kim| 29|          102|51000.0|10200.0|        1|      two|\n",
            "|        009|      Tom Tan| 33|          103|58000.0|11600.0|        1|      two|\n",
            "|        010|     Lisa Lee| 27|          104|47000.0| 9400.0|        1|      two|\n",
            "|        011|   David Park| 38|          104|65000.0|13000.0|        1|      two|\n",
            "|        012|   Susan Chen| 31|          105|54000.0|10800.0|        1|      two|\n",
            "|        013|    Brian Kim| 45|          106|75000.0|15000.0|        1|      two|\n",
            "|        014|    Emily Lee| 26|          107|46000.0| 9200.0|        1|      two|\n",
            "|        015|  Michael Lee| 37|          106|63000.0|12600.0|        1|      two|\n",
            "|        016|  Kelly Zhang| 30|          107|49000.0| 9800.0|        1|      two|\n",
            "|        017|  George Wang| 34|          105|57000.0|11400.0|        1|      two|\n",
            "|        018|    Nancy Liu| 29|          104|50000.0|10000.0|        1|      two|\n",
            "|        019|  Steven Chen| 36|          103|62000.0|12400.0|        1|      two|\n",
            "|        020|    Grace Kim| 32|          102|53000.0|10600.0|        1|      two|\n",
            "+-----------+-------------+---+-------------+-------+-------+---------+---------+\n",
            "\n"
          ]
        }
      ]
    },
    {
      "cell_type": "code",
      "source": [
        "emp1=emp_new_cols.withColumnRenamed(\"employee_id\",\"emp_id\")\n",
        "\n",
        "emp1.show()"
      ],
      "metadata": {
        "id": "qpOqtpFWETfu",
        "outputId": "d3015a83-f22d-47dc-bf01-150b7658a0ee",
        "colab": {
          "base_uri": "https://localhost:8080/"
        }
      },
      "id": "qpOqtpFWETfu",
      "execution_count": null,
      "outputs": [
        {
          "output_type": "stream",
          "name": "stdout",
          "text": [
            "+------+-------------+---+-------------+-------+-------+---------+---------+\n",
            "|emp_id|         name|age|department_id| salary|    tax|ColumnOne|ColumnTwo|\n",
            "+------+-------------+---+-------------+-------+-------+---------+---------+\n",
            "|   001|     John Doe| 30|          101|50000.0|10000.0|        1|      two|\n",
            "|   002|   Jane Smith| 25|          101|45000.0| 9000.0|        1|      two|\n",
            "|   003|    Bob Brown| 35|          102|55000.0|11000.0|        1|      two|\n",
            "|   004|    Alice Lee| 28|          102|48000.0| 9600.0|        1|      two|\n",
            "|   005|    Jack Chan| 40|          103|60000.0|12000.0|        1|      two|\n",
            "|   006|    Jill Wong| 32|          103|52000.0|10400.0|        1|      two|\n",
            "|   007|James Johnson| 42|          101|70000.0|14000.0|        1|      two|\n",
            "|   008|     Kate Kim| 29|          102|51000.0|10200.0|        1|      two|\n",
            "|   009|      Tom Tan| 33|          103|58000.0|11600.0|        1|      two|\n",
            "|   010|     Lisa Lee| 27|          104|47000.0| 9400.0|        1|      two|\n",
            "|   011|   David Park| 38|          104|65000.0|13000.0|        1|      two|\n",
            "|   012|   Susan Chen| 31|          105|54000.0|10800.0|        1|      two|\n",
            "|   013|    Brian Kim| 45|          106|75000.0|15000.0|        1|      two|\n",
            "|   014|    Emily Lee| 26|          107|46000.0| 9200.0|        1|      two|\n",
            "|   015|  Michael Lee| 37|          106|63000.0|12600.0|        1|      two|\n",
            "|   016|  Kelly Zhang| 30|          107|49000.0| 9800.0|        1|      two|\n",
            "|   017|  George Wang| 34|          105|57000.0|11400.0|        1|      two|\n",
            "|   018|    Nancy Liu| 29|          104|50000.0|10000.0|        1|      two|\n",
            "|   019|  Steven Chen| 36|          103|62000.0|12400.0|        1|      two|\n",
            "|   020|    Grace Kim| 32|          102|53000.0|10600.0|        1|      two|\n",
            "+------+-------------+---+-------------+-------+-------+---------+---------+\n",
            "\n"
          ]
        }
      ]
    },
    {
      "cell_type": "code",
      "source": [
        "emp1=emp_new_cols.withColumnRenamed(\"employee_id\",\"Emp Id\");\n",
        "emp1.show()"
      ],
      "metadata": {
        "id": "P7aN0K7aEzLP",
        "outputId": "9f0d8925-fca9-40c2-b22d-17d6ef2990a5",
        "colab": {
          "base_uri": "https://localhost:8080/"
        }
      },
      "id": "P7aN0K7aEzLP",
      "execution_count": null,
      "outputs": [
        {
          "output_type": "stream",
          "name": "stdout",
          "text": [
            "+------+-------------+---+-------------+-------+-------+---------+---------+\n",
            "|Emp Id|         name|age|department_id| salary|    tax|ColumnOne|ColumnTwo|\n",
            "+------+-------------+---+-------------+-------+-------+---------+---------+\n",
            "|   001|     John Doe| 30|          101|50000.0|10000.0|        1|      two|\n",
            "|   002|   Jane Smith| 25|          101|45000.0| 9000.0|        1|      two|\n",
            "|   003|    Bob Brown| 35|          102|55000.0|11000.0|        1|      two|\n",
            "|   004|    Alice Lee| 28|          102|48000.0| 9600.0|        1|      two|\n",
            "|   005|    Jack Chan| 40|          103|60000.0|12000.0|        1|      two|\n",
            "|   006|    Jill Wong| 32|          103|52000.0|10400.0|        1|      two|\n",
            "|   007|James Johnson| 42|          101|70000.0|14000.0|        1|      two|\n",
            "|   008|     Kate Kim| 29|          102|51000.0|10200.0|        1|      two|\n",
            "|   009|      Tom Tan| 33|          103|58000.0|11600.0|        1|      two|\n",
            "|   010|     Lisa Lee| 27|          104|47000.0| 9400.0|        1|      two|\n",
            "|   011|   David Park| 38|          104|65000.0|13000.0|        1|      two|\n",
            "|   012|   Susan Chen| 31|          105|54000.0|10800.0|        1|      two|\n",
            "|   013|    Brian Kim| 45|          106|75000.0|15000.0|        1|      two|\n",
            "|   014|    Emily Lee| 26|          107|46000.0| 9200.0|        1|      two|\n",
            "|   015|  Michael Lee| 37|          106|63000.0|12600.0|        1|      two|\n",
            "|   016|  Kelly Zhang| 30|          107|49000.0| 9800.0|        1|      two|\n",
            "|   017|  George Wang| 34|          105|57000.0|11400.0|        1|      two|\n",
            "|   018|    Nancy Liu| 29|          104|50000.0|10000.0|        1|      two|\n",
            "|   019|  Steven Chen| 36|          103|62000.0|12400.0|        1|      two|\n",
            "|   020|    Grace Kim| 32|          102|53000.0|10600.0|        1|      two|\n",
            "+------+-------------+---+-------------+-------+-------+---------+---------+\n",
            "\n"
          ]
        }
      ]
    },
    {
      "cell_type": "code",
      "source": [
        "emp_dropped=emp_new_cols.drop(\"ColumnOne\")\n",
        "emp_dropped.show()"
      ],
      "metadata": {
        "id": "o2ap940OE7iv",
        "outputId": "3cd46246-cfe3-448e-c00b-d49d99aeff1f",
        "colab": {
          "base_uri": "https://localhost:8080/"
        }
      },
      "id": "o2ap940OE7iv",
      "execution_count": null,
      "outputs": [
        {
          "output_type": "stream",
          "name": "stdout",
          "text": [
            "+-----------+-------------+---+-------------+-------+-------+---------+\n",
            "|employee_id|         name|age|department_id| salary|    tax|ColumnTwo|\n",
            "+-----------+-------------+---+-------------+-------+-------+---------+\n",
            "|        001|     John Doe| 30|          101|50000.0|10000.0|      two|\n",
            "|        002|   Jane Smith| 25|          101|45000.0| 9000.0|      two|\n",
            "|        003|    Bob Brown| 35|          102|55000.0|11000.0|      two|\n",
            "|        004|    Alice Lee| 28|          102|48000.0| 9600.0|      two|\n",
            "|        005|    Jack Chan| 40|          103|60000.0|12000.0|      two|\n",
            "|        006|    Jill Wong| 32|          103|52000.0|10400.0|      two|\n",
            "|        007|James Johnson| 42|          101|70000.0|14000.0|      two|\n",
            "|        008|     Kate Kim| 29|          102|51000.0|10200.0|      two|\n",
            "|        009|      Tom Tan| 33|          103|58000.0|11600.0|      two|\n",
            "|        010|     Lisa Lee| 27|          104|47000.0| 9400.0|      two|\n",
            "|        011|   David Park| 38|          104|65000.0|13000.0|      two|\n",
            "|        012|   Susan Chen| 31|          105|54000.0|10800.0|      two|\n",
            "|        013|    Brian Kim| 45|          106|75000.0|15000.0|      two|\n",
            "|        014|    Emily Lee| 26|          107|46000.0| 9200.0|      two|\n",
            "|        015|  Michael Lee| 37|          106|63000.0|12600.0|      two|\n",
            "|        016|  Kelly Zhang| 30|          107|49000.0| 9800.0|      two|\n",
            "|        017|  George Wang| 34|          105|57000.0|11400.0|      two|\n",
            "|        018|    Nancy Liu| 29|          104|50000.0|10000.0|      two|\n",
            "|        019|  Steven Chen| 36|          103|62000.0|12400.0|      two|\n",
            "|        020|    Grace Kim| 32|          102|53000.0|10600.0|      two|\n",
            "+-----------+-------------+---+-------------+-------+-------+---------+\n",
            "\n"
          ]
        }
      ]
    },
    {
      "cell_type": "code",
      "source": [
        "emp_drop1=emp_taxed.drop(\"ColumnOne\").drop(\"ColumnTwo\")\n",
        "emp_drop1.show()"
      ],
      "metadata": {
        "id": "aWezKpD8FN4S",
        "outputId": "43c26efc-e03c-4e38-9ff2-e697d150fd6a",
        "colab": {
          "base_uri": "https://localhost:8080/"
        }
      },
      "id": "aWezKpD8FN4S",
      "execution_count": null,
      "outputs": [
        {
          "output_type": "stream",
          "name": "stdout",
          "text": [
            "+-----------+-------------+---+-------------+-------+-------+\n",
            "|employee_id|         name|age|department_id| salary|    tax|\n",
            "+-----------+-------------+---+-------------+-------+-------+\n",
            "|        001|     John Doe| 30|          101|50000.0|10000.0|\n",
            "|        002|   Jane Smith| 25|          101|45000.0| 9000.0|\n",
            "|        003|    Bob Brown| 35|          102|55000.0|11000.0|\n",
            "|        004|    Alice Lee| 28|          102|48000.0| 9600.0|\n",
            "|        005|    Jack Chan| 40|          103|60000.0|12000.0|\n",
            "|        006|    Jill Wong| 32|          103|52000.0|10400.0|\n",
            "|        007|James Johnson| 42|          101|70000.0|14000.0|\n",
            "|        008|     Kate Kim| 29|          102|51000.0|10200.0|\n",
            "|        009|      Tom Tan| 33|          103|58000.0|11600.0|\n",
            "|        010|     Lisa Lee| 27|          104|47000.0| 9400.0|\n",
            "|        011|   David Park| 38|          104|65000.0|13000.0|\n",
            "|        012|   Susan Chen| 31|          105|54000.0|10800.0|\n",
            "|        013|    Brian Kim| 45|          106|75000.0|15000.0|\n",
            "|        014|    Emily Lee| 26|          107|46000.0| 9200.0|\n",
            "|        015|  Michael Lee| 37|          106|63000.0|12600.0|\n",
            "|        016|  Kelly Zhang| 30|          107|49000.0| 9800.0|\n",
            "|        017|  George Wang| 34|          105|57000.0|11400.0|\n",
            "|        018|    Nancy Liu| 29|          104|50000.0|10000.0|\n",
            "|        019|  Steven Chen| 36|          103|62000.0|12400.0|\n",
            "|        020|    Grace Kim| 32|          102|53000.0|10600.0|\n",
            "+-----------+-------------+---+-------------+-------+-------+\n",
            "\n"
          ]
        }
      ]
    },
    {
      "cell_type": "code",
      "source": [
        "emp_filter=emp_drop1.where(\"tax > 10000\")\n",
        "emp_filter.show()"
      ],
      "metadata": {
        "id": "Zmzkvil2F6Fh",
        "outputId": "ff8291ce-64e8-4fae-a866-7f49444a4a40",
        "colab": {
          "base_uri": "https://localhost:8080/"
        }
      },
      "id": "Zmzkvil2F6Fh",
      "execution_count": null,
      "outputs": [
        {
          "output_type": "stream",
          "name": "stdout",
          "text": [
            "+-----------+-------------+---+-------------+-------+-------+\n",
            "|employee_id|         name|age|department_id| salary|    tax|\n",
            "+-----------+-------------+---+-------------+-------+-------+\n",
            "|        003|    Bob Brown| 35|          102|55000.0|11000.0|\n",
            "|        005|    Jack Chan| 40|          103|60000.0|12000.0|\n",
            "|        006|    Jill Wong| 32|          103|52000.0|10400.0|\n",
            "|        007|James Johnson| 42|          101|70000.0|14000.0|\n",
            "|        008|     Kate Kim| 29|          102|51000.0|10200.0|\n",
            "|        009|      Tom Tan| 33|          103|58000.0|11600.0|\n",
            "|        011|   David Park| 38|          104|65000.0|13000.0|\n",
            "|        012|   Susan Chen| 31|          105|54000.0|10800.0|\n",
            "|        013|    Brian Kim| 45|          106|75000.0|15000.0|\n",
            "|        015|  Michael Lee| 37|          106|63000.0|12600.0|\n",
            "|        017|  George Wang| 34|          105|57000.0|11400.0|\n",
            "|        019|  Steven Chen| 36|          103|62000.0|12400.0|\n",
            "|        020|    Grace Kim| 32|          102|53000.0|10600.0|\n",
            "+-----------+-------------+---+-------------+-------+-------+\n",
            "\n"
          ]
        }
      ]
    },
    {
      "cell_type": "code",
      "source": [
        "emp_limit=emp_taxed.limit(8)\n",
        "emp_limit.show();"
      ],
      "metadata": {
        "id": "PYaasqxMGI-A",
        "outputId": "7c474707-4215-4783-8ea6-110133fd64bc",
        "colab": {
          "base_uri": "https://localhost:8080/"
        }
      },
      "id": "PYaasqxMGI-A",
      "execution_count": null,
      "outputs": [
        {
          "output_type": "stream",
          "name": "stdout",
          "text": [
            "+-----------+-------------+---+-------------+-------+-------+\n",
            "|employee_id|         name|age|department_id| salary|    tax|\n",
            "+-----------+-------------+---+-------------+-------+-------+\n",
            "|        001|     John Doe| 30|          101|50000.0|10000.0|\n",
            "|        002|   Jane Smith| 25|          101|45000.0| 9000.0|\n",
            "|        003|    Bob Brown| 35|          102|55000.0|11000.0|\n",
            "|        004|    Alice Lee| 28|          102|48000.0| 9600.0|\n",
            "|        005|    Jack Chan| 40|          103|60000.0|12000.0|\n",
            "|        006|    Jill Wong| 32|          103|52000.0|10400.0|\n",
            "|        007|James Johnson| 42|          101|70000.0|14000.0|\n",
            "|        008|     Kate Kim| 29|          102|51000.0|10200.0|\n",
            "+-----------+-------------+---+-------------+-------+-------+\n",
            "\n"
          ]
        }
      ]
    },
    {
      "cell_type": "code",
      "source": [
        "emp_limit.show(10)\n"
      ],
      "metadata": {
        "id": "OCNl8TJVGWtH",
        "outputId": "6d2cb4d0-6296-411e-a1fe-f41c02c1c754",
        "colab": {
          "base_uri": "https://localhost:8080/"
        }
      },
      "id": "OCNl8TJVGWtH",
      "execution_count": null,
      "outputs": [
        {
          "output_type": "stream",
          "name": "stdout",
          "text": [
            "+-----------+-------------+---+-------------+-------+-------+\n",
            "|employee_id|         name|age|department_id| salary|    tax|\n",
            "+-----------+-------------+---+-------------+-------+-------+\n",
            "|        001|     John Doe| 30|          101|50000.0|10000.0|\n",
            "|        002|   Jane Smith| 25|          101|45000.0| 9000.0|\n",
            "|        003|    Bob Brown| 35|          102|55000.0|11000.0|\n",
            "|        004|    Alice Lee| 28|          102|48000.0| 9600.0|\n",
            "|        005|    Jack Chan| 40|          103|60000.0|12000.0|\n",
            "|        006|    Jill Wong| 32|          103|52000.0|10400.0|\n",
            "|        007|James Johnson| 42|          101|70000.0|14000.0|\n",
            "|        008|     Kate Kim| 29|          102|51000.0|10200.0|\n",
            "+-----------+-------------+---+-------------+-------+-------+\n",
            "\n"
          ]
        }
      ]
    },
    {
      "cell_type": "code",
      "source": [
        "columns={\n",
        "    \"tax\":col(\"salary\") *0.2,\n",
        "    \"threeNumber\":lit(3),\n",
        "    \"fourNumber\":lit(\"Four Number\")\n",
        "}\n",
        "emp_new=emp_taxed.withColumns(columns)"
      ],
      "metadata": {
        "id": "uMWI0VFyGgiz"
      },
      "id": "uMWI0VFyGgiz",
      "execution_count": null,
      "outputs": []
    },
    {
      "cell_type": "code",
      "source": [
        "emp_new.show()"
      ],
      "metadata": {
        "id": "HbNJnmYuGk_R",
        "outputId": "94cbf54b-ad82-4953-dc5c-e89271e58aea",
        "colab": {
          "base_uri": "https://localhost:8080/",
          "height": 141
        }
      },
      "id": "HbNJnmYuGk_R",
      "execution_count": 15,
      "outputs": [
        {
          "output_type": "error",
          "ename": "NameError",
          "evalue": "name 'emp_new' is not defined",
          "traceback": [
            "\u001b[0;31m---------------------------------------------------------------------------\u001b[0m",
            "\u001b[0;31mNameError\u001b[0m                                 Traceback (most recent call last)",
            "\u001b[0;32m/tmp/ipython-input-1977373926.py\u001b[0m in \u001b[0;36m<cell line: 0>\u001b[0;34m()\u001b[0m\n\u001b[0;32m----> 1\u001b[0;31m \u001b[0memp_new\u001b[0m\u001b[0;34m.\u001b[0m\u001b[0mshow\u001b[0m\u001b[0;34m(\u001b[0m\u001b[0;34m)\u001b[0m\u001b[0;34m\u001b[0m\u001b[0;34m\u001b[0m\u001b[0m\n\u001b[0m",
            "\u001b[0;31mNameError\u001b[0m: name 'emp_new' is not defined"
          ]
        }
      ]
    },
    {
      "cell_type": "code",
      "source": [
        "emp.show();"
      ],
      "metadata": {
        "id": "fU1lQp9O6g_F",
        "outputId": "d8ae5430-caea-45dd-c772-30bd87095a62",
        "colab": {
          "base_uri": "https://localhost:8080/"
        }
      },
      "id": "fU1lQp9O6g_F",
      "execution_count": 16,
      "outputs": [
        {
          "output_type": "stream",
          "name": "stdout",
          "text": [
            "+-----------+-------------+-------------+---+------+------+----------+\n",
            "|employee_id|department_id|         name|age|gender|salary| hire_date|\n",
            "+-----------+-------------+-------------+---+------+------+----------+\n",
            "|        001|          101|     John Doe| 30|  Male| 50000|2015-01-01|\n",
            "|        002|          101|   Jane Smith| 25|Female| 45000|2016-02-15|\n",
            "|        003|          102|    Bob Brown| 35|  Male| 55000|2014-05-01|\n",
            "|        004|          102|    Alice Lee| 28|Female| 48000|2017-09-30|\n",
            "|        005|          103|    Jack Chan| 40|  Male| 60000|2013-04-01|\n",
            "|        006|          103|    Jill Wong| 32|Female| 52000|2018-07-01|\n",
            "|        007|          101|James Johnson| 42|  Male| 70000|2012-03-15|\n",
            "|        008|          102|     Kate Kim| 29|Female| 51000|2019-10-01|\n",
            "|        009|          103|      Tom Tan| 33|  Male| 58000|2016-06-01|\n",
            "|        010|          104|     Lisa Lee| 27|Female| 47000|2018-08-01|\n",
            "|        011|          104|   David Park| 38|  Male| 65000|2015-11-01|\n",
            "|        012|          105|   Susan Chen| 31|Female| 54000|2017-02-15|\n",
            "|        013|          106|    Brian Kim| 45|  Male| 75000|2011-07-01|\n",
            "|        014|          107|    Emily Lee| 26|Female| 46000|2019-01-01|\n",
            "|        015|          106|  Michael Lee| 37|  Male| 63000|2014-09-30|\n",
            "|        016|          107|  Kelly Zhang| 30|Female| 49000|2018-04-01|\n",
            "|        017|          105|  George Wang| 34|  Male| 57000|2016-03-15|\n",
            "|        018|          104|    Nancy Liu| 29|Female| 50000|2017-06-01|\n",
            "|        019|          103|  Steven Chen| 36|  Male| 62000|2015-08-01|\n",
            "|        020|          102|    Grace Kim| 32|Female| 53000|2018-11-01|\n",
            "+-----------+-------------+-------------+---+------+------+----------+\n",
            "only showing top 20 rows\n",
            "\n"
          ]
        }
      ]
    },
    {
      "cell_type": "code",
      "source": [
        "from pyspark.sql.functions import when,col,expr\n",
        "emp_gender=emp.withColumn(\"new_gender\",when(col(\"gender\")=='Male','M').when(col(\"gender\")==\"Female\",'F').otherwise(None))\n",
        "emp_gender.show()"
      ],
      "metadata": {
        "id": "9WdDCTRy5GC9",
        "outputId": "689aa644-cd63-43c4-910e-a11340733a88",
        "colab": {
          "base_uri": "https://localhost:8080/"
        }
      },
      "id": "9WdDCTRy5GC9",
      "execution_count": 14,
      "outputs": [
        {
          "output_type": "stream",
          "name": "stdout",
          "text": [
            "+-----------+-------------+-------------+---+------+------+----------+----------+\n",
            "|employee_id|department_id|         name|age|gender|salary| hire_date|new_gender|\n",
            "+-----------+-------------+-------------+---+------+------+----------+----------+\n",
            "|        001|          101|     John Doe| 30|  Male| 50000|2015-01-01|         M|\n",
            "|        002|          101|   Jane Smith| 25|Female| 45000|2016-02-15|         F|\n",
            "|        003|          102|    Bob Brown| 35|  Male| 55000|2014-05-01|         M|\n",
            "|        004|          102|    Alice Lee| 28|Female| 48000|2017-09-30|         F|\n",
            "|        005|          103|    Jack Chan| 40|  Male| 60000|2013-04-01|         M|\n",
            "|        006|          103|    Jill Wong| 32|Female| 52000|2018-07-01|         F|\n",
            "|        007|          101|James Johnson| 42|  Male| 70000|2012-03-15|         M|\n",
            "|        008|          102|     Kate Kim| 29|Female| 51000|2019-10-01|         F|\n",
            "|        009|          103|      Tom Tan| 33|  Male| 58000|2016-06-01|         M|\n",
            "|        010|          104|     Lisa Lee| 27|Female| 47000|2018-08-01|         F|\n",
            "|        011|          104|   David Park| 38|  Male| 65000|2015-11-01|         M|\n",
            "|        012|          105|   Susan Chen| 31|Female| 54000|2017-02-15|         F|\n",
            "|        013|          106|    Brian Kim| 45|  Male| 75000|2011-07-01|         M|\n",
            "|        014|          107|    Emily Lee| 26|Female| 46000|2019-01-01|         F|\n",
            "|        015|          106|  Michael Lee| 37|  Male| 63000|2014-09-30|         M|\n",
            "|        016|          107|  Kelly Zhang| 30|Female| 49000|2018-04-01|         F|\n",
            "|        017|          105|  George Wang| 34|  Male| 57000|2016-03-15|         M|\n",
            "|        018|          104|    Nancy Liu| 29|Female| 50000|2017-06-01|         F|\n",
            "|        019|          103|  Steven Chen| 36|  Male| 62000|2015-08-01|         M|\n",
            "|        020|          102|    Grace Kim| 32|Female| 53000|2018-11-01|         F|\n",
            "+-----------+-------------+-------------+---+------+------+----------+----------+\n",
            "only showing top 20 rows\n",
            "\n"
          ]
        }
      ]
    },
    {
      "cell_type": "code",
      "source": [
        "emp_gender1=emp.withColumn(\"new_gender\",expr(\"case when gender='Male' then 'M' when gender='Female' then 'F' else null end\"))\n",
        "emp_gender1.show()"
      ],
      "metadata": {
        "id": "uKKa_nZw69dI",
        "outputId": "c6008438-ada7-447c-f5c4-d3f598d819e9",
        "colab": {
          "base_uri": "https://localhost:8080/"
        }
      },
      "id": "uKKa_nZw69dI",
      "execution_count": 19,
      "outputs": [
        {
          "output_type": "stream",
          "name": "stdout",
          "text": [
            "+-----------+-------------+-------------+---+------+------+----------+----------+\n",
            "|employee_id|department_id|         name|age|gender|salary| hire_date|new_gender|\n",
            "+-----------+-------------+-------------+---+------+------+----------+----------+\n",
            "|        001|          101|     John Doe| 30|  Male| 50000|2015-01-01|         M|\n",
            "|        002|          101|   Jane Smith| 25|Female| 45000|2016-02-15|         F|\n",
            "|        003|          102|    Bob Brown| 35|  Male| 55000|2014-05-01|         M|\n",
            "|        004|          102|    Alice Lee| 28|Female| 48000|2017-09-30|         F|\n",
            "|        005|          103|    Jack Chan| 40|  Male| 60000|2013-04-01|         M|\n",
            "|        006|          103|    Jill Wong| 32|Female| 52000|2018-07-01|         F|\n",
            "|        007|          101|James Johnson| 42|  Male| 70000|2012-03-15|         M|\n",
            "|        008|          102|     Kate Kim| 29|Female| 51000|2019-10-01|         F|\n",
            "|        009|          103|      Tom Tan| 33|  Male| 58000|2016-06-01|         M|\n",
            "|        010|          104|     Lisa Lee| 27|Female| 47000|2018-08-01|         F|\n",
            "|        011|          104|   David Park| 38|  Male| 65000|2015-11-01|         M|\n",
            "|        012|          105|   Susan Chen| 31|Female| 54000|2017-02-15|         F|\n",
            "|        013|          106|    Brian Kim| 45|  Male| 75000|2011-07-01|         M|\n",
            "|        014|          107|    Emily Lee| 26|Female| 46000|2019-01-01|         F|\n",
            "|        015|          106|  Michael Lee| 37|  Male| 63000|2014-09-30|         M|\n",
            "|        016|          107|  Kelly Zhang| 30|Female| 49000|2018-04-01|         F|\n",
            "|        017|          105|  George Wang| 34|  Male| 57000|2016-03-15|         M|\n",
            "|        018|          104|    Nancy Liu| 29|Female| 50000|2017-06-01|         F|\n",
            "|        019|          103|  Steven Chen| 36|  Male| 62000|2015-08-01|         M|\n",
            "|        020|          102|    Grace Kim| 32|Female| 53000|2018-11-01|         F|\n",
            "+-----------+-------------+-------------+---+------+------+----------+----------+\n",
            "only showing top 20 rows\n",
            "\n"
          ]
        }
      ]
    },
    {
      "cell_type": "code",
      "source": [
        "from pyspark.sql.functions  import regexp_replace,col\n",
        "emp_name_fixed=emp_gender1.withColumn(\"new_name\",regexp_replace(col(\"name\"),'J','X'));\n",
        "emp_name_fixed.show()"
      ],
      "metadata": {
        "id": "xJdLPm-b7RxB",
        "outputId": "6a57cad2-be8b-41d5-a8b0-4a62373e71a7",
        "colab": {
          "base_uri": "https://localhost:8080/"
        }
      },
      "id": "xJdLPm-b7RxB",
      "execution_count": 21,
      "outputs": [
        {
          "output_type": "stream",
          "name": "stdout",
          "text": [
            "+-----------+-------------+-------------+---+------+------+----------+----------+-------------+\n",
            "|employee_id|department_id|         name|age|gender|salary| hire_date|new_gender|     new_name|\n",
            "+-----------+-------------+-------------+---+------+------+----------+----------+-------------+\n",
            "|        001|          101|     John Doe| 30|  Male| 50000|2015-01-01|         M|     Xohn Doe|\n",
            "|        002|          101|   Jane Smith| 25|Female| 45000|2016-02-15|         F|   Xane Smith|\n",
            "|        003|          102|    Bob Brown| 35|  Male| 55000|2014-05-01|         M|    Bob Brown|\n",
            "|        004|          102|    Alice Lee| 28|Female| 48000|2017-09-30|         F|    Alice Lee|\n",
            "|        005|          103|    Jack Chan| 40|  Male| 60000|2013-04-01|         M|    Xack Chan|\n",
            "|        006|          103|    Jill Wong| 32|Female| 52000|2018-07-01|         F|    Xill Wong|\n",
            "|        007|          101|James Johnson| 42|  Male| 70000|2012-03-15|         M|Xames Xohnson|\n",
            "|        008|          102|     Kate Kim| 29|Female| 51000|2019-10-01|         F|     Kate Kim|\n",
            "|        009|          103|      Tom Tan| 33|  Male| 58000|2016-06-01|         M|      Tom Tan|\n",
            "|        010|          104|     Lisa Lee| 27|Female| 47000|2018-08-01|         F|     Lisa Lee|\n",
            "|        011|          104|   David Park| 38|  Male| 65000|2015-11-01|         M|   David Park|\n",
            "|        012|          105|   Susan Chen| 31|Female| 54000|2017-02-15|         F|   Susan Chen|\n",
            "|        013|          106|    Brian Kim| 45|  Male| 75000|2011-07-01|         M|    Brian Kim|\n",
            "|        014|          107|    Emily Lee| 26|Female| 46000|2019-01-01|         F|    Emily Lee|\n",
            "|        015|          106|  Michael Lee| 37|  Male| 63000|2014-09-30|         M|  Michael Lee|\n",
            "|        016|          107|  Kelly Zhang| 30|Female| 49000|2018-04-01|         F|  Kelly Zhang|\n",
            "|        017|          105|  George Wang| 34|  Male| 57000|2016-03-15|         M|  George Wang|\n",
            "|        018|          104|    Nancy Liu| 29|Female| 50000|2017-06-01|         F|    Nancy Liu|\n",
            "|        019|          103|  Steven Chen| 36|  Male| 62000|2015-08-01|         M|  Steven Chen|\n",
            "|        020|          102|    Grace Kim| 32|Female| 53000|2018-11-01|         F|    Grace Kim|\n",
            "+-----------+-------------+-------------+---+------+------+----------+----------+-------------+\n",
            "only showing top 20 rows\n",
            "\n"
          ]
        }
      ]
    },
    {
      "cell_type": "code",
      "source": [
        "from pyspark.sql.functions import to_date,col\n",
        "emp_dated=emp_name_fixed.withColumn('hire_dated',to_date(col(\"hire_date\"),'yyyy-MM-dd'));\n",
        "emp_dated.show()"
      ],
      "metadata": {
        "colab": {
          "base_uri": "https://localhost:8080/"
        },
        "id": "FtOY3ZfR7woI",
        "outputId": "d5882890-30e5-4c3c-dcaa-d8fe80b98b3e"
      },
      "id": "FtOY3ZfR7woI",
      "execution_count": 41,
      "outputs": [
        {
          "output_type": "stream",
          "name": "stdout",
          "text": [
            "+-----------+-------------+-------------+---+------+------+----------+----------+-------------+----------+\n",
            "|employee_id|department_id|         name|age|gender|salary| hire_date|new_gender|     new_name|hire_dated|\n",
            "+-----------+-------------+-------------+---+------+------+----------+----------+-------------+----------+\n",
            "|        001|          101|     John Doe| 30|  Male| 50000|2015-01-01|         M|     Xohn Doe|2015-01-01|\n",
            "|        002|          101|   Jane Smith| 25|Female| 45000|2016-02-15|         F|   Xane Smith|2016-02-15|\n",
            "|        003|          102|    Bob Brown| 35|  Male| 55000|2014-05-01|         M|    Bob Brown|2014-05-01|\n",
            "|        004|          102|    Alice Lee| 28|Female| 48000|2017-09-30|         F|    Alice Lee|2017-09-30|\n",
            "|        005|          103|    Jack Chan| 40|  Male| 60000|2013-04-01|         M|    Xack Chan|2013-04-01|\n",
            "|        006|          103|    Jill Wong| 32|Female| 52000|2018-07-01|         F|    Xill Wong|2018-07-01|\n",
            "|        007|          101|James Johnson| 42|  Male| 70000|2012-03-15|         M|Xames Xohnson|2012-03-15|\n",
            "|        008|          102|     Kate Kim| 29|Female| 51000|2019-10-01|         F|     Kate Kim|2019-10-01|\n",
            "|        009|          103|      Tom Tan| 33|  Male| 58000|2016-06-01|         M|      Tom Tan|2016-06-01|\n",
            "|        010|          104|     Lisa Lee| 27|Female| 47000|2018-08-01|         F|     Lisa Lee|2018-08-01|\n",
            "|        011|          104|   David Park| 38|  Male| 65000|2015-11-01|         M|   David Park|2015-11-01|\n",
            "|        012|          105|   Susan Chen| 31|Female| 54000|2017-02-15|         F|   Susan Chen|2017-02-15|\n",
            "|        013|          106|    Brian Kim| 45|  Male| 75000|2011-07-01|         M|    Brian Kim|2011-07-01|\n",
            "|        014|          107|    Emily Lee| 26|Female| 46000|2019-01-01|         F|    Emily Lee|2019-01-01|\n",
            "|        015|          106|  Michael Lee| 37|  Male| 63000|2014-09-30|         M|  Michael Lee|2014-09-30|\n",
            "|        016|          107|  Kelly Zhang| 30|Female| 49000|2018-04-01|         F|  Kelly Zhang|2018-04-01|\n",
            "|        017|          105|  George Wang| 34|  Male| 57000|2016-03-15|         M|  George Wang|2016-03-15|\n",
            "|        018|          104|    Nancy Liu| 29|Female| 50000|2017-06-01|         F|    Nancy Liu|2017-06-01|\n",
            "|        019|          103|  Steven Chen| 36|  Male| 62000|2015-08-01|         M|  Steven Chen|2015-08-01|\n",
            "|        020|          102|    Grace Kim| 32|Female| 53000|2018-11-01|         F|    Grace Kim|2018-11-01|\n",
            "+-----------+-------------+-------------+---+------+------+----------+----------+-------------+----------+\n",
            "only showing top 20 rows\n",
            "\n"
          ]
        }
      ]
    },
    {
      "cell_type": "code",
      "source": [],
      "metadata": {
        "id": "XzYeQAe08YTz",
        "outputId": "ac8d3b9b-be24-4b39-b9a3-e08ac54b54d9",
        "colab": {
          "base_uri": "https://localhost:8080/"
        }
      },
      "id": "XzYeQAe08YTz",
      "execution_count": 33,
      "outputs": [
        {
          "output_type": "stream",
          "name": "stdout",
          "text": [
            "+-----------+-------------+-------------+---+------+------+----------+----------+-------------+----------+\n",
            "|employee_id|department_id|         name|age|gender|salary| hire_date|new_gender|     new_name|hire_dated|\n",
            "+-----------+-------------+-------------+---+------+------+----------+----------+-------------+----------+\n",
            "|        001|          101|     John Doe| 30|  Male| 50000|2015-01-01|         M|     Xohn Doe|      NULL|\n",
            "|        002|          101|   Jane Smith| 25|Female| 45000|2016-02-15|         F|   Xane Smith|      NULL|\n",
            "|        003|          102|    Bob Brown| 35|  Male| 55000|2014-05-01|         M|    Bob Brown|      NULL|\n",
            "|        004|          102|    Alice Lee| 28|Female| 48000|2017-09-30|         F|    Alice Lee|      NULL|\n",
            "|        005|          103|    Jack Chan| 40|  Male| 60000|2013-04-01|         M|    Xack Chan|      NULL|\n",
            "|        006|          103|    Jill Wong| 32|Female| 52000|2018-07-01|         F|    Xill Wong|      NULL|\n",
            "|        007|          101|James Johnson| 42|  Male| 70000|2012-03-15|         M|Xames Xohnson|      NULL|\n",
            "|        008|          102|     Kate Kim| 29|Female| 51000|2019-10-01|         F|     Kate Kim|      NULL|\n",
            "|        009|          103|      Tom Tan| 33|  Male| 58000|2016-06-01|         M|      Tom Tan|      NULL|\n",
            "|        010|          104|     Lisa Lee| 27|Female| 47000|2018-08-01|         F|     Lisa Lee|      NULL|\n",
            "|        011|          104|   David Park| 38|  Male| 65000|2015-11-01|         M|   David Park|      NULL|\n",
            "|        012|          105|   Susan Chen| 31|Female| 54000|2017-02-15|         F|   Susan Chen|      NULL|\n",
            "|        013|          106|    Brian Kim| 45|  Male| 75000|2011-07-01|         M|    Brian Kim|      NULL|\n",
            "|        014|          107|    Emily Lee| 26|Female| 46000|2019-01-01|         F|    Emily Lee|      NULL|\n",
            "|        015|          106|  Michael Lee| 37|  Male| 63000|2014-09-30|         M|  Michael Lee|      NULL|\n",
            "|        016|          107|  Kelly Zhang| 30|Female| 49000|2018-04-01|         F|  Kelly Zhang|      NULL|\n",
            "|        017|          105|  George Wang| 34|  Male| 57000|2016-03-15|         M|  George Wang|      NULL|\n",
            "|        018|          104|    Nancy Liu| 29|Female| 50000|2017-06-01|         F|    Nancy Liu|      NULL|\n",
            "|        019|          103|  Steven Chen| 36|  Male| 62000|2015-08-01|         M|  Steven Chen|      NULL|\n",
            "|        020|          102|    Grace Kim| 32|Female| 53000|2018-11-01|         F|    Grace Kim|      NULL|\n",
            "+-----------+-------------+-------------+---+------+------+----------+----------+-------------+----------+\n",
            "only showing top 20 rows\n",
            "\n"
          ]
        }
      ]
    },
    {
      "cell_type": "code",
      "source": [
        "from pyspark.sql.functions import current_date,current_timestamp\n",
        "\n",
        "emp_date_fix=emp_dated.withColumn(\"currentDate\",current_date()).withColumn(\"currentTimeStamp\",current_timestamp())\n",
        "emp_date_fix.show(truncate=False);\n"
      ],
      "metadata": {
        "id": "w-hbgPZZ87h0",
        "outputId": "2a2d10ac-39b2-4eb1-aa40-29727c989668",
        "colab": {
          "base_uri": "https://localhost:8080/"
        }
      },
      "id": "w-hbgPZZ87h0",
      "execution_count": 43,
      "outputs": [
        {
          "output_type": "stream",
          "name": "stdout",
          "text": [
            "+-----------+-------------+-------------+---+------+------+----------+----------+-------------+----------+-----------+--------------------------+\n",
            "|employee_id|department_id|name         |age|gender|salary|hire_date |new_gender|new_name     |hire_dated|currentDate|currentTimeStamp          |\n",
            "+-----------+-------------+-------------+---+------+------+----------+----------+-------------+----------+-----------+--------------------------+\n",
            "|001        |101          |John Doe     |30 |Male  |50000 |2015-01-01|M         |Xohn Doe     |2015-01-01|2025-09-05 |2025-09-05 12:59:51.614309|\n",
            "|002        |101          |Jane Smith   |25 |Female|45000 |2016-02-15|F         |Xane Smith   |2016-02-15|2025-09-05 |2025-09-05 12:59:51.614309|\n",
            "|003        |102          |Bob Brown    |35 |Male  |55000 |2014-05-01|M         |Bob Brown    |2014-05-01|2025-09-05 |2025-09-05 12:59:51.614309|\n",
            "|004        |102          |Alice Lee    |28 |Female|48000 |2017-09-30|F         |Alice Lee    |2017-09-30|2025-09-05 |2025-09-05 12:59:51.614309|\n",
            "|005        |103          |Jack Chan    |40 |Male  |60000 |2013-04-01|M         |Xack Chan    |2013-04-01|2025-09-05 |2025-09-05 12:59:51.614309|\n",
            "|006        |103          |Jill Wong    |32 |Female|52000 |2018-07-01|F         |Xill Wong    |2018-07-01|2025-09-05 |2025-09-05 12:59:51.614309|\n",
            "|007        |101          |James Johnson|42 |Male  |70000 |2012-03-15|M         |Xames Xohnson|2012-03-15|2025-09-05 |2025-09-05 12:59:51.614309|\n",
            "|008        |102          |Kate Kim     |29 |Female|51000 |2019-10-01|F         |Kate Kim     |2019-10-01|2025-09-05 |2025-09-05 12:59:51.614309|\n",
            "|009        |103          |Tom Tan      |33 |Male  |58000 |2016-06-01|M         |Tom Tan      |2016-06-01|2025-09-05 |2025-09-05 12:59:51.614309|\n",
            "|010        |104          |Lisa Lee     |27 |Female|47000 |2018-08-01|F         |Lisa Lee     |2018-08-01|2025-09-05 |2025-09-05 12:59:51.614309|\n",
            "|011        |104          |David Park   |38 |Male  |65000 |2015-11-01|M         |David Park   |2015-11-01|2025-09-05 |2025-09-05 12:59:51.614309|\n",
            "|012        |105          |Susan Chen   |31 |Female|54000 |2017-02-15|F         |Susan Chen   |2017-02-15|2025-09-05 |2025-09-05 12:59:51.614309|\n",
            "|013        |106          |Brian Kim    |45 |Male  |75000 |2011-07-01|M         |Brian Kim    |2011-07-01|2025-09-05 |2025-09-05 12:59:51.614309|\n",
            "|014        |107          |Emily Lee    |26 |Female|46000 |2019-01-01|F         |Emily Lee    |2019-01-01|2025-09-05 |2025-09-05 12:59:51.614309|\n",
            "|015        |106          |Michael Lee  |37 |Male  |63000 |2014-09-30|M         |Michael Lee  |2014-09-30|2025-09-05 |2025-09-05 12:59:51.614309|\n",
            "|016        |107          |Kelly Zhang  |30 |Female|49000 |2018-04-01|F         |Kelly Zhang  |2018-04-01|2025-09-05 |2025-09-05 12:59:51.614309|\n",
            "|017        |105          |George Wang  |34 |Male  |57000 |2016-03-15|M         |George Wang  |2016-03-15|2025-09-05 |2025-09-05 12:59:51.614309|\n",
            "|018        |104          |Nancy Liu    |29 |Female|50000 |2017-06-01|F         |Nancy Liu    |2017-06-01|2025-09-05 |2025-09-05 12:59:51.614309|\n",
            "|019        |103          |Steven Chen  |36 |Male  |62000 |2015-08-01|M         |Steven Chen  |2015-08-01|2025-09-05 |2025-09-05 12:59:51.614309|\n",
            "|020        |102          |Grace Kim    |32 |Female|53000 |2018-11-01|F         |Grace Kim    |2018-11-01|2025-09-05 |2025-09-05 12:59:51.614309|\n",
            "+-----------+-------------+-------------+---+------+------+----------+----------+-------------+----------+-----------+--------------------------+\n",
            "only showing top 20 rows\n",
            "\n"
          ]
        }
      ]
    },
    {
      "cell_type": "code",
      "source": [
        "emp_final=emp_date_fix.drop(\"name\",\"gender\").withColumnRenamed(\"new_name\",\"name\").withColumnRenamed(\"new_gender\",\"gender\");\n",
        "emp_final.show()"
      ],
      "metadata": {
        "id": "rwyhI2Se9l9m",
        "outputId": "157ef199-8851-4138-e533-f2a397227183",
        "colab": {
          "base_uri": "https://localhost:8080/"
        }
      },
      "id": "rwyhI2Se9l9m",
      "execution_count": 44,
      "outputs": [
        {
          "output_type": "stream",
          "name": "stdout",
          "text": [
            "+-----------+-------------+---+------+----------+------+-------------+----------+-----------+--------------------+\n",
            "|employee_id|department_id|age|salary| hire_date|gender|         name|hire_dated|currentDate|    currentTimeStamp|\n",
            "+-----------+-------------+---+------+----------+------+-------------+----------+-----------+--------------------+\n",
            "|        001|          101| 30| 50000|2015-01-01|     M|     Xohn Doe|2015-01-01| 2025-09-05|2025-09-05 13:02:...|\n",
            "|        002|          101| 25| 45000|2016-02-15|     F|   Xane Smith|2016-02-15| 2025-09-05|2025-09-05 13:02:...|\n",
            "|        003|          102| 35| 55000|2014-05-01|     M|    Bob Brown|2014-05-01| 2025-09-05|2025-09-05 13:02:...|\n",
            "|        004|          102| 28| 48000|2017-09-30|     F|    Alice Lee|2017-09-30| 2025-09-05|2025-09-05 13:02:...|\n",
            "|        005|          103| 40| 60000|2013-04-01|     M|    Xack Chan|2013-04-01| 2025-09-05|2025-09-05 13:02:...|\n",
            "|        006|          103| 32| 52000|2018-07-01|     F|    Xill Wong|2018-07-01| 2025-09-05|2025-09-05 13:02:...|\n",
            "|        007|          101| 42| 70000|2012-03-15|     M|Xames Xohnson|2012-03-15| 2025-09-05|2025-09-05 13:02:...|\n",
            "|        008|          102| 29| 51000|2019-10-01|     F|     Kate Kim|2019-10-01| 2025-09-05|2025-09-05 13:02:...|\n",
            "|        009|          103| 33| 58000|2016-06-01|     M|      Tom Tan|2016-06-01| 2025-09-05|2025-09-05 13:02:...|\n",
            "|        010|          104| 27| 47000|2018-08-01|     F|     Lisa Lee|2018-08-01| 2025-09-05|2025-09-05 13:02:...|\n",
            "|        011|          104| 38| 65000|2015-11-01|     M|   David Park|2015-11-01| 2025-09-05|2025-09-05 13:02:...|\n",
            "|        012|          105| 31| 54000|2017-02-15|     F|   Susan Chen|2017-02-15| 2025-09-05|2025-09-05 13:02:...|\n",
            "|        013|          106| 45| 75000|2011-07-01|     M|    Brian Kim|2011-07-01| 2025-09-05|2025-09-05 13:02:...|\n",
            "|        014|          107| 26| 46000|2019-01-01|     F|    Emily Lee|2019-01-01| 2025-09-05|2025-09-05 13:02:...|\n",
            "|        015|          106| 37| 63000|2014-09-30|     M|  Michael Lee|2014-09-30| 2025-09-05|2025-09-05 13:02:...|\n",
            "|        016|          107| 30| 49000|2018-04-01|     F|  Kelly Zhang|2018-04-01| 2025-09-05|2025-09-05 13:02:...|\n",
            "|        017|          105| 34| 57000|2016-03-15|     M|  George Wang|2016-03-15| 2025-09-05|2025-09-05 13:02:...|\n",
            "|        018|          104| 29| 50000|2017-06-01|     F|    Nancy Liu|2017-06-01| 2025-09-05|2025-09-05 13:02:...|\n",
            "|        019|          103| 36| 62000|2015-08-01|     M|  Steven Chen|2015-08-01| 2025-09-05|2025-09-05 13:02:...|\n",
            "|        020|          102| 32| 53000|2018-11-01|     F|    Grace Kim|2018-11-01| 2025-09-05|2025-09-05 13:02:...|\n",
            "+-----------+-------------+---+------+----------+------+-------------+----------+-----------+--------------------+\n",
            "only showing top 20 rows\n",
            "\n"
          ]
        }
      ]
    },
    {
      "cell_type": "code",
      "source": [
        "from pyspark.sql.functions import col,date_format\n",
        "emp_fixed=emp_final.withColumn(\"date_string\",date_format(col(\"hire_date\"),'dd/MM/yyyy'))\n",
        "emp_fixed.show();"
      ],
      "metadata": {
        "id": "qD73HNVJ-TA-",
        "outputId": "d9fdee8f-e77f-44ba-b9f4-31ac6a9f3590",
        "colab": {
          "base_uri": "https://localhost:8080/"
        }
      },
      "id": "qD73HNVJ-TA-",
      "execution_count": 46,
      "outputs": [
        {
          "output_type": "stream",
          "name": "stdout",
          "text": [
            "+-----------+-------------+---+------+----------+------+-------------+----------+-----------+--------------------+-----------+\n",
            "|employee_id|department_id|age|salary| hire_date|gender|         name|hire_dated|currentDate|    currentTimeStamp|date_string|\n",
            "+-----------+-------------+---+------+----------+------+-------------+----------+-----------+--------------------+-----------+\n",
            "|        001|          101| 30| 50000|2015-01-01|     M|     Xohn Doe|2015-01-01| 2025-09-05|2025-09-05 13:04:...| 01/01/2015|\n",
            "|        002|          101| 25| 45000|2016-02-15|     F|   Xane Smith|2016-02-15| 2025-09-05|2025-09-05 13:04:...| 15/02/2016|\n",
            "|        003|          102| 35| 55000|2014-05-01|     M|    Bob Brown|2014-05-01| 2025-09-05|2025-09-05 13:04:...| 01/05/2014|\n",
            "|        004|          102| 28| 48000|2017-09-30|     F|    Alice Lee|2017-09-30| 2025-09-05|2025-09-05 13:04:...| 30/09/2017|\n",
            "|        005|          103| 40| 60000|2013-04-01|     M|    Xack Chan|2013-04-01| 2025-09-05|2025-09-05 13:04:...| 01/04/2013|\n",
            "|        006|          103| 32| 52000|2018-07-01|     F|    Xill Wong|2018-07-01| 2025-09-05|2025-09-05 13:04:...| 01/07/2018|\n",
            "|        007|          101| 42| 70000|2012-03-15|     M|Xames Xohnson|2012-03-15| 2025-09-05|2025-09-05 13:04:...| 15/03/2012|\n",
            "|        008|          102| 29| 51000|2019-10-01|     F|     Kate Kim|2019-10-01| 2025-09-05|2025-09-05 13:04:...| 01/10/2019|\n",
            "|        009|          103| 33| 58000|2016-06-01|     M|      Tom Tan|2016-06-01| 2025-09-05|2025-09-05 13:04:...| 01/06/2016|\n",
            "|        010|          104| 27| 47000|2018-08-01|     F|     Lisa Lee|2018-08-01| 2025-09-05|2025-09-05 13:04:...| 01/08/2018|\n",
            "|        011|          104| 38| 65000|2015-11-01|     M|   David Park|2015-11-01| 2025-09-05|2025-09-05 13:04:...| 01/11/2015|\n",
            "|        012|          105| 31| 54000|2017-02-15|     F|   Susan Chen|2017-02-15| 2025-09-05|2025-09-05 13:04:...| 15/02/2017|\n",
            "|        013|          106| 45| 75000|2011-07-01|     M|    Brian Kim|2011-07-01| 2025-09-05|2025-09-05 13:04:...| 01/07/2011|\n",
            "|        014|          107| 26| 46000|2019-01-01|     F|    Emily Lee|2019-01-01| 2025-09-05|2025-09-05 13:04:...| 01/01/2019|\n",
            "|        015|          106| 37| 63000|2014-09-30|     M|  Michael Lee|2014-09-30| 2025-09-05|2025-09-05 13:04:...| 30/09/2014|\n",
            "|        016|          107| 30| 49000|2018-04-01|     F|  Kelly Zhang|2018-04-01| 2025-09-05|2025-09-05 13:04:...| 01/04/2018|\n",
            "|        017|          105| 34| 57000|2016-03-15|     M|  George Wang|2016-03-15| 2025-09-05|2025-09-05 13:04:...| 15/03/2016|\n",
            "|        018|          104| 29| 50000|2017-06-01|     F|    Nancy Liu|2017-06-01| 2025-09-05|2025-09-05 13:04:...| 01/06/2017|\n",
            "|        019|          103| 36| 62000|2015-08-01|     M|  Steven Chen|2015-08-01| 2025-09-05|2025-09-05 13:04:...| 01/08/2015|\n",
            "|        020|          102| 32| 53000|2018-11-01|     F|    Grace Kim|2018-11-01| 2025-09-05|2025-09-05 13:04:...| 01/11/2018|\n",
            "+-----------+-------------+---+------+----------+------+-------------+----------+-----------+--------------------+-----------+\n",
            "only showing top 20 rows\n",
            "\n"
          ]
        }
      ]
    }
  ],
  "metadata": {
    "kernelspec": {
      "display_name": "Python 3",
      "name": "python3"
    },
    "language_info": {
      "name": "python"
    },
    "required_libs": [],
    "colab": {
      "provenance": []
    }
  },
  "nbformat": 4,
  "nbformat_minor": 5
}